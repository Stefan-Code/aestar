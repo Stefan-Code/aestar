{
 "cells": [
  {
   "cell_type": "code",
   "execution_count": 26,
   "metadata": {},
   "outputs": [],
   "source": [
    "from cryptography.hazmat.primitives.ciphers import Cipher, algorithms, modes\n",
    "from cryptography.hazmat.backends import default_backend\n",
    "import os\n",
    "import hashlib\n",
    "import binascii"
   ]
  },
  {
   "cell_type": "code",
   "execution_count": 15,
   "metadata": {},
   "outputs": [],
   "source": [
    "with open('aes/pw.txt', 'rb') as f:\n",
    "    passphrase = f.read().strip()"
   ]
  },
  {
   "cell_type": "code",
   "execution_count": 121,
   "metadata": {},
   "outputs": [],
   "source": [
    "with open('aes/data.txt', 'rb') as f:\n",
    "    data = f.read()"
   ]
  },
  {
   "cell_type": "code",
   "execution_count": 122,
   "metadata": {},
   "outputs": [
    {
     "data": {
      "text/plain": [
       "32"
      ]
     },
     "execution_count": 122,
     "metadata": {},
     "output_type": "execute_result"
    }
   ],
   "source": [
    "len(data)"
   ]
  },
  {
   "cell_type": "code",
   "execution_count": 18,
   "metadata": {},
   "outputs": [
    {
     "data": {
      "text/plain": [
       "20"
      ]
     },
     "execution_count": 18,
     "metadata": {},
     "output_type": "execute_result"
    }
   ],
   "source": [
    "len(passphrase)"
   ]
  },
  {
   "cell_type": "code",
   "execution_count": 20,
   "metadata": {},
   "outputs": [
    {
     "data": {
      "text/plain": [
       "16"
      ]
     },
     "execution_count": 20,
     "metadata": {},
     "output_type": "execute_result"
    }
   ],
   "source": [
    "key = hashlib.sha256(passphrase).digest()[:16]\n",
    "len(key)"
   ]
  },
  {
   "cell_type": "code",
   "execution_count": 133,
   "metadata": {},
   "outputs": [
    {
     "name": "stdout",
     "output_type": "stream",
     "text": [
      "CPU times: user 367 µs, sys: 22 µs, total: 389 µs\n",
      "Wall time: 289 µs\n"
     ]
    }
   ],
   "source": [
    "%%time\n",
    "iv = 0 # zero byte IV\n",
    "cipher = Cipher(algorithms.AES(key), modes.CBC(iv.to_bytes(16, byteorder='little')), backend=default_backend())\n",
    "encryptor = cipher.encryptor()\n",
    "ct = encryptor.update(bytes(512))\n",
    "#binascii.hexlify(ct)"
   ]
  },
  {
   "cell_type": "code",
   "execution_count": 28,
   "metadata": {},
   "outputs": [
    {
     "name": "stdout",
     "output_type": "stream",
     "text": [
      "CPU times: user 149 µs, sys: 5 µs, total: 154 µs\n",
      "Wall time: 110 µs\n"
     ]
    }
   ],
   "source": [
    "%%time\n",
    "decryptor = cipher.decryptor()"
   ]
  },
  {
   "cell_type": "code",
   "execution_count": 29,
   "metadata": {},
   "outputs": [
    {
     "data": {
      "text/plain": [
       "b'123456789012345\\nabcdefghijklmna\\n'"
      ]
     },
     "execution_count": 29,
     "metadata": {},
     "output_type": "execute_result"
    }
   ],
   "source": [
    "decryptor.update(ct)"
   ]
  },
  {
   "cell_type": "code",
   "execution_count": 319,
   "metadata": {},
   "outputs": [
    {
     "data": {
      "text/plain": [
       "b'01eaa3a7bbde99f559be0e7e0d4ff41137cf9cc0c6471d1ac393f00efe343952'"
      ]
     },
     "execution_count": 319,
     "metadata": {},
     "output_type": "execute_result"
    }
   ],
   "source": [
    "ct = encryptor.update(data)\n",
    "binascii.hexlify(ct)"
   ]
  },
  {
   "cell_type": "code",
   "execution_count": 277,
   "metadata": {},
   "outputs": [],
   "source": [
    "f = open('/dev/null', 'wb')\n",
    "    "
   ]
  },
  {
   "cell_type": "code",
   "execution_count": null,
   "metadata": {},
   "outputs": [],
   "source": [
    "f.write()"
   ]
  },
  {
   "cell_type": "code",
   "execution_count": 268,
   "metadata": {},
   "outputs": [
    {
     "ename": "AlreadyFinalized",
     "evalue": "Context was already finalized.",
     "output_type": "error",
     "traceback": [
      "\u001b[0;31m---------------------------------------------------------------------------\u001b[0m",
      "\u001b[0;31mAlreadyFinalized\u001b[0m                          Traceback (most recent call last)",
      "\u001b[0;32m<ipython-input-268-9ee7aaec18f4>\u001b[0m in \u001b[0;36m<module>\u001b[0;34m\u001b[0m\n\u001b[0;32m----> 1\u001b[0;31m \u001b[0mencryptor\u001b[0m\u001b[0;34m.\u001b[0m\u001b[0mfinalize\u001b[0m\u001b[0;34m(\u001b[0m\u001b[0;34m)\u001b[0m\u001b[0;34m\u001b[0m\u001b[0;34m\u001b[0m\u001b[0m\n\u001b[0m",
      "\u001b[0;32m~/anaconda3/envs/archive/lib/python3.8/site-packages/cryptography/hazmat/primitives/ciphers/base.py\u001b[0m in \u001b[0;36mfinalize\u001b[0;34m(self)\u001b[0m\n\u001b[1;32m    161\u001b[0m     \u001b[0;32mdef\u001b[0m \u001b[0mfinalize\u001b[0m\u001b[0;34m(\u001b[0m\u001b[0mself\u001b[0m\u001b[0;34m)\u001b[0m\u001b[0;34m:\u001b[0m\u001b[0;34m\u001b[0m\u001b[0;34m\u001b[0m\u001b[0m\n\u001b[1;32m    162\u001b[0m         \u001b[0;32mif\u001b[0m \u001b[0mself\u001b[0m\u001b[0;34m.\u001b[0m\u001b[0m_ctx\u001b[0m \u001b[0;32mis\u001b[0m \u001b[0;32mNone\u001b[0m\u001b[0;34m:\u001b[0m\u001b[0;34m\u001b[0m\u001b[0;34m\u001b[0m\u001b[0m\n\u001b[0;32m--> 163\u001b[0;31m             \u001b[0;32mraise\u001b[0m \u001b[0mAlreadyFinalized\u001b[0m\u001b[0;34m(\u001b[0m\u001b[0;34m\"Context was already finalized.\"\u001b[0m\u001b[0;34m)\u001b[0m\u001b[0;34m\u001b[0m\u001b[0;34m\u001b[0m\u001b[0m\n\u001b[0m\u001b[1;32m    164\u001b[0m         \u001b[0mdata\u001b[0m \u001b[0;34m=\u001b[0m \u001b[0mself\u001b[0m\u001b[0;34m.\u001b[0m\u001b[0m_ctx\u001b[0m\u001b[0;34m.\u001b[0m\u001b[0mfinalize\u001b[0m\u001b[0;34m(\u001b[0m\u001b[0;34m)\u001b[0m\u001b[0;34m\u001b[0m\u001b[0;34m\u001b[0m\u001b[0m\n\u001b[1;32m    165\u001b[0m         \u001b[0mself\u001b[0m\u001b[0;34m.\u001b[0m\u001b[0m_ctx\u001b[0m \u001b[0;34m=\u001b[0m \u001b[0;32mNone\u001b[0m\u001b[0;34m\u001b[0m\u001b[0;34m\u001b[0m\u001b[0m\n",
      "\u001b[0;31mAlreadyFinalized\u001b[0m: Context was already finalized."
     ]
    }
   ],
   "source": [
    "encryptor.finalize()"
   ]
  },
  {
   "cell_type": "code",
   "execution_count": 136,
   "metadata": {},
   "outputs": [],
   "source": [
    "with open('aespipe.txt', 'rb') as f:\n",
    "    large = f.read()"
   ]
  },
  {
   "cell_type": "code",
   "execution_count": 169,
   "metadata": {},
   "outputs": [],
   "source": [
    "class AESFile:\n",
    "    def __init__(self, file, mode, passphrase):\n",
    "        # actual file we are writing to\n",
    "        # turn buffering off, as we are writing in chunks anyways\n",
    "        self._file = open(file, mode=mode, buffering=0)\n",
    "        # the encryption key is derived from the upper 16 bytes of the SHA256 hash (in case of AES128)\n",
    "        self.key = hashlib.sha256(passphrase).digest()[:16]\n",
    "        # aespipe in single-key mode uses a 0-byte IV which is incremented for each 512 byte sector \n",
    "        self.SECTOR_SIZE = 512 # bytes\n",
    "        self.sector = 0\n",
    "        self._cipher = self._get_cipher()\n",
    "        self._encryptor = self._cipher.encryptor()\n",
    "        self._decryptor = self._cipher.decryptor()\n",
    "        self._encrypted_buffer = bytes(self.SECTOR_SIZE)\n",
    "        \n",
    "    def _next_sector(self):\n",
    "        self.sector += 1\n",
    "        self._cipher = self._get_cipher()\n",
    "        self._encryptor = self._cipher.encryptor()\n",
    "        self._decryptor = self._cipher.decryptor()\n",
    "        \n",
    "    def write(self, buffer):\n",
    "        if len(buffer) != 512:\n",
    "            raise NotImplementedError(f'Buffer Size has to be 512 bytes, not {len(buffer)}')\n",
    "        # TODO: sector size\n",
    "        #if len(buffer) > len(self._encrypted_buffer):\n",
    "        #    self._encrypted_buffer = bytes(len(buffer))\n",
    "        #written_bytes = 0\n",
    "        #bytes_left = self._sector_size - self._sector_bytes \n",
    "        #print(f'we have {bytes_left} available in sector {self._sector}')\n",
    "        #while written_bytes < len(buffer):\n",
    "        #    write_slice = buffer[written_bytes:bytes_left]\n",
    "        #    print(f'writing {len(write_slice)}')\n",
    "        self._encrypted_buffer = self._encryptor.update(buffer)\n",
    "        self._next_sector()\n",
    "        return self._file.write(self._encrypted_buffer)\n",
    "\n",
    "    \n",
    "    def close(self):\n",
    "        finalize = self._encryptor.finalize()\n",
    "        self._file.close()\n",
    "        if len(finalize):\n",
    "            raise ValueError(f'Something went wrong with finalizing the encryptor, got length {len(finalize)}')\n",
    "        # pad with zero bytes until the block (not sector!) is filled\n",
    "        \n",
    "    def _get_cipher(self):\n",
    "        return Cipher(algorithms.AES(self.key), modes.CBC(self.sector.to_bytes(16, byteorder='little')), backend=default_backend())\n",
    "        \n",
    "class AESFile2:\n",
    "    def __init__(self, file, mode, passphrase):\n",
    "        # actual file we are writing to\n",
    "        # turn buffering off, as we are writing in chunks anyways\n",
    "        self._file = open(file, mode=mode, buffering=0)\n",
    "        # the encryption key is derived from the upper 16 bytes of the SHA256 hash (in case of AES128)\n",
    "        self.key = hashlib.sha256(passphrase).digest()[:16]\n",
    "        # aespipe in single-key mode uses a 0-byte IV which is incremented for each 512 byte sector \n",
    "        self.SECTOR_SIZE = 512 # bytes\n",
    "        self.sector = 0\n",
    "        self._cipher = self._get_cipher()\n",
    "        self._encrypted_buffer = bytes(self.SECTOR_SIZE)\n",
    "        \n",
    "    def _next_sector(self):\n",
    "        self.sector += 1\n",
    "        self._cipher = self._get_cipher()\n",
    "        \n",
    "    def write(self, buffer):\n",
    "        if len(buffer) != 512:\n",
    "            raise NotImplementedError(f'Buffer Size has to be 512 bytes, not {len(buffer)}')\n",
    "        # TODO: sector size\n",
    "        #if len(buffer) > len(self._encrypted_buffer):\n",
    "        #    self._encrypted_buffer = bytes(len(buffer))\n",
    "        #written_bytes = 0\n",
    "        #bytes_left = self._sector_size - self._sector_bytes \n",
    "        #print(f'we have {bytes_left} available in sector {self._sector}')\n",
    "        #while written_bytes < len(buffer):\n",
    "        #    write_slice = buffer[written_bytes:bytes_left]\n",
    "        #    print(f'writing {len(write_slice)}')\n",
    "        self._encrypted_buffer = self._cipher.encrypt(buffer)\n",
    "        self._next_sector()\n",
    "        return self._file.write(self._encrypted_buffer)\n",
    "        \n",
    "    def close(self):\n",
    "        self._file.close()\n",
    "        # pad with zero bytes until the block (not sector!) is filled\n",
    "        \n",
    "    def _get_cipher(self):\n",
    "        return AES.new(self.key, AES.MODE_CBC, IV=self.sector.to_bytes(16, byteorder='little'))"
   ]
  },
  {
   "cell_type": "code",
   "execution_count": 166,
   "metadata": {},
   "outputs": [],
   "source": [
    "aes_file = AESFile2('test.aes', 'wb', passphrase)"
   ]
  },
  {
   "cell_type": "code",
   "execution_count": 167,
   "metadata": {},
   "outputs": [
    {
     "data": {
      "text/plain": [
       "1024"
      ]
     },
     "execution_count": 167,
     "metadata": {},
     "output_type": "execute_result"
    }
   ],
   "source": [
    "aes_file.write(huge[:1024])"
   ]
  },
  {
   "cell_type": "code",
   "execution_count": 86,
   "metadata": {},
   "outputs": [],
   "source": [
    "with open('aespipe.txt', 'rb') as f:\n",
    "    data = f.read()"
   ]
  },
  {
   "cell_type": "code",
   "execution_count": 134,
   "metadata": {},
   "outputs": [],
   "source": [
    "import subprocess"
   ]
  },
  {
   "cell_type": "code",
   "execution_count": 135,
   "metadata": {},
   "outputs": [
    {
     "data": {
      "text/plain": [
       "b'123456789012345\\nabcdefghijklmna\\n'"
      ]
     },
     "execution_count": 135,
     "metadata": {},
     "output_type": "execute_result"
    }
   ],
   "source": [
    "data"
   ]
  },
  {
   "cell_type": "code",
   "execution_count": 140,
   "metadata": {},
   "outputs": [
    {
     "name": "stdout",
     "output_type": "stream",
     "text": [
      "CPU times: user 521 µs, sys: 4.04 ms, total: 4.56 ms\n",
      "Wall time: 4.95 ms\n"
     ]
    }
   ],
   "source": [
    "%%time\n",
    "data\n",
    "p = subprocess.Popen(['aespipe', '-P', 'pw.txt'], stdout=subprocess.PIPE, stdin=subprocess.PIPE)\n",
    "result = p.communicate(input=bytes(128*1024))"
   ]
  },
  {
   "cell_type": "code",
   "execution_count": 87,
   "metadata": {},
   "outputs": [
    {
     "data": {
      "text/plain": [
       "12.0"
      ]
     },
     "execution_count": 87,
     "metadata": {},
     "output_type": "execute_result"
    }
   ],
   "source": [
    "6144/512"
   ]
  },
  {
   "cell_type": "code",
   "execution_count": 76,
   "metadata": {},
   "outputs": [
    {
     "data": {
      "text/plain": [
       "6532"
      ]
     },
     "execution_count": 76,
     "metadata": {},
     "output_type": "execute_result"
    }
   ],
   "source": [
    "len(data)"
   ]
  },
  {
   "cell_type": "code",
   "execution_count": 92,
   "metadata": {},
   "outputs": [],
   "source": [
    "for i in range(len(data) // 512):\n",
    "    aes_file.write(data[512*i:512*(i+1)])"
   ]
  },
  {
   "cell_type": "code",
   "execution_count": 84,
   "metadata": {},
   "outputs": [],
   "source": [
    "aes_file.close()"
   ]
  },
  {
   "cell_type": "code",
   "execution_count": 61,
   "metadata": {},
   "outputs": [],
   "source": [
    "import tarfile"
   ]
  },
  {
   "cell_type": "code",
   "execution_count": 179,
   "metadata": {},
   "outputs": [],
   "source": [
    "aesfile = AESFile2('test.tar.aes', 'wb', passphrase)\n",
    "normalfile = open('test.normal.tar', 'wb', buffering=0)\n",
    "archive = tarfile.open(fileobj=aesfile, mode='w|', bufsize=512)"
   ]
  },
  {
   "cell_type": "code",
   "execution_count": 180,
   "metadata": {},
   "outputs": [],
   "source": [
    "archive.add('aespipe.txt')"
   ]
  },
  {
   "cell_type": "code",
   "execution_count": 177,
   "metadata": {},
   "outputs": [],
   "source": [
    "archive.close()"
   ]
  },
  {
   "cell_type": "code",
   "execution_count": 181,
   "metadata": {},
   "outputs": [],
   "source": [
    "archive.add('aespipe.ipynb')"
   ]
  },
  {
   "cell_type": "code",
   "execution_count": 185,
   "metadata": {},
   "outputs": [
    {
     "data": {
      "text/plain": [
       "484462"
      ]
     },
     "execution_count": 185,
     "metadata": {},
     "output_type": "execute_result"
    }
   ],
   "source": [
    "aesfile.sector"
   ]
  },
  {
   "cell_type": "code",
   "execution_count": 184,
   "metadata": {
    "collapsed": true,
    "jupyter": {
     "outputs_hidden": true
    }
   },
   "outputs": [
    {
     "name": "stdout",
     "output_type": "stream",
     "text": [
      " "
     ]
    },
    {
     "data": {
      "text/plain": [
       "         7841187 function calls in 4.485 seconds\n",
       "\n",
       "   Ordered by: internal time\n",
       "\n",
       "   ncalls  tottime  percall  cumtime  percall filename:lineno(function)\n",
       "   484390    1.065    0.000    1.065    0.000 {method 'encrypt' of '_AES' objects}\n",
       "   484390    0.655    0.000    0.655    0.000 {method 'write' of '_io.FileIO' objects}\n",
       "    15140    0.467    0.000    4.425    0.000 tarfile.py:443(__write)\n",
       "   484390    0.387    0.000    3.928    0.000 <ipython-input-169-e3c446c0b53e>:66(write)\n",
       "   484390    0.305    0.000    0.737    0.000 blockalgo.py:136(__init__)\n",
       "   484390    0.254    0.000    1.466    0.000 <ipython-input-169-e3c446c0b53e>:86(_get_cipher)\n",
       "   484390    0.227    0.000    0.227    0.000 {built-in method Crypto.Cipher._AES.new}\n",
       "   484390    0.206    0.000    0.942    0.000 AES.py:55(__init__)\n",
       "   484390    0.201    0.000    1.143    0.000 AES.py:61(new)\n",
       "   484390    0.187    0.000    1.653    0.000 <ipython-input-169-e3c446c0b53e>:62(_next_sector)\n",
       "   484390    0.147    0.000    0.204    0.000 blockalgo.py:124(_getParameter)\n",
       "   484390    0.143    0.000    1.207    0.000 blockalgo.py:187(encrypt)\n",
       "  1498597    0.085    0.000    0.085    0.000 {built-in method builtins.len}\n",
       "   484390    0.068    0.000    0.068    0.000 {method 'to_bytes' of 'int' objects}\n",
       "    15138    0.039    0.000    0.039    0.000 {method 'read' of '_io.BufferedReader' objects}\n",
       "   484406    0.029    0.000    0.029    0.000 {method 'get' of 'dict' objects}\n",
       "        1    0.010    0.010    4.485    4.485 tarfile.py:234(copyfileobj)\n",
       "    15140    0.009    0.000    4.435    0.000 tarfile.py:433(write)\n",
       "        1    0.000    0.000    0.000    0.000 {built-in method pwd.getpwuid}\n",
       "        1    0.000    0.000    0.000    0.000 {built-in method io.open}\n",
       "        1    0.000    0.000    0.000    0.000 tarfile.py:1773(gettarinfo)\n",
       "        1    0.000    0.000    0.000    0.000 {built-in method grp.getgrgid}\n",
       "        1    0.000    0.000    4.485    4.485 {built-in method builtins.exec}\n",
       "        1    0.000    0.000    4.485    4.485 tarfile.py:1905(add)\n",
       "        7    0.000    0.000    0.000    0.000 tarfile.py:192(itn)\n",
       "        1    0.000    0.000    4.485    4.485 tarfile.py:1956(addfile)\n",
       "        1    0.000    0.000    0.000    0.000 {built-in method posix.lstat}\n",
       "        1    0.000    0.000    0.000    0.000 tarfile.py:920(_create_header)\n",
       "        2    0.000    0.000    0.000    0.000 {built-in method builtins.sum}\n",
       "        1    0.000    0.000    0.000    0.000 copy.py:66(copy)\n",
       "        1    0.000    0.000    0.000    0.000 {method '__reduce_ex__' of 'object' objects}\n",
       "        1    0.000    0.000    0.000    0.000 tarfile.py:221(calc_chksums)\n",
       "        5    0.000    0.000    0.000    0.000 tarfile.py:158(stn)\n",
       "        1    0.000    0.000    0.000    0.000 tarfile.py:739(__init__)\n",
       "        2    0.000    0.000    0.000    0.000 {built-in method _struct.unpack_from}\n",
       "        1    0.000    0.000    0.000    0.000 copy.py:268(_reconstruct)\n",
       "       18    0.000    0.000    0.000    0.000 {built-in method builtins.setattr}\n",
       "        1    0.000    0.000    4.485    4.485 <string>:1(<module>)\n",
       "        1    0.000    0.000    0.000    0.000 tarfile.py:835(create_gnu_header)\n",
       "        1    0.000    0.000    0.000    0.000 copyreg.py:87(__newobj__)\n",
       "        3    0.000    0.000    0.000    0.000 tarfile.py:2355(_check)\n",
       "        2    0.000    0.000    0.000    0.000 {built-in method builtins.getattr}\n",
       "        1    0.000    0.000    0.000    0.000 {method 'join' of 'bytes' objects}\n",
       "        1    0.000    0.000    0.000    0.000 tarfile.py:808(tobuf)\n",
       "        1    0.000    0.000    0.000    0.000 posixpath.py:135(splitdrive)\n",
       "        2    0.000    0.000    0.000    0.000 {built-in method builtins.divmod}\n",
       "        2    0.000    0.000    0.000    0.000 {built-in method builtins.hasattr}\n",
       "        1    0.000    0.000    0.000    0.000 tarfile.py:784(get_info)\n",
       "        1    0.000    0.000    0.000    0.000 {built-in method _struct.pack}\n",
       "        1    0.000    0.000    0.000    0.000 {built-in method _stat.S_ISREG}\n",
       "        2    0.000    0.000    0.000    0.000 {built-in method builtins.isinstance}\n",
       "        1    0.000    0.000    0.000    0.000 {built-in method builtins.issubclass}\n",
       "        7    0.000    0.000    0.000    0.000 {method 'encode' of 'str' objects}\n",
       "        1    0.000    0.000    0.000    0.000 {method 'replace' of 'str' objects}\n",
       "        1    0.000    0.000    0.000    0.000 {method 'lstrip' of 'str' objects}\n",
       "        1    0.000    0.000    0.000    0.000 {method 'append' of 'list' objects}\n",
       "        1    0.000    0.000    0.000    0.000 tarfile.py:2414(_dbg)\n",
       "        1    0.000    0.000    0.000    0.000 tarfile.py:1365(isreg)\n",
       "        1    0.000    0.000    0.000    0.000 {built-in method posix.fspath}\n",
       "        1    0.000    0.000    0.000    0.000 {built-in method __new__ of type object at 0x55b3ef5b8240}\n",
       "        1    0.000    0.000    0.000    0.000 {method 'items' of 'dict' objects}\n",
       "        1    0.000    0.000    0.000    0.000 {method 'disable' of '_lsprof.Profiler' objects}"
      ]
     },
     "metadata": {},
     "output_type": "display_data"
    }
   ],
   "source": [
    "%prun archive.add('/home/sk/Downloads/yolov3.weights')"
   ]
  },
  {
   "cell_type": "code",
   "execution_count": 73,
   "metadata": {},
   "outputs": [
    {
     "data": {
      "text/plain": [
       "20"
      ]
     },
     "execution_count": 73,
     "metadata": {},
     "output_type": "execute_result"
    }
   ],
   "source": [
    "aesfile.sector"
   ]
  },
  {
   "cell_type": "code",
   "execution_count": null,
   "metadata": {},
   "outputs": [],
   "source": [
    "to_write = 512\n",
    "left = 400\n"
   ]
  },
  {
   "cell_type": "code",
   "execution_count": 333,
   "metadata": {},
   "outputs": [
    {
     "data": {
      "text/plain": [
       "b'12345'"
      ]
     },
     "execution_count": 333,
     "metadata": {},
     "output_type": "execute_result"
    }
   ],
   "source": [
    "b'12345'[:512]"
   ]
  },
  {
   "cell_type": "code",
   "execution_count": 360,
   "metadata": {},
   "outputs": [
    {
     "name": "stdout",
     "output_type": "stream",
     "text": [
      "�}_��60\\\u0000~J��[TU���U'�����A���6�"
     ]
    }
   ],
   "source": [
    "!cat 'test.aes'"
   ]
  },
  {
   "cell_type": "code",
   "execution_count": 373,
   "metadata": {
    "collapsed": true,
    "jupyter": {
     "outputs_hidden": true
    }
   },
   "outputs": [
    {
     "data": {
      "text/plain": [
       "['__class__',\n",
       " '__delattr__',\n",
       " '__dict__',\n",
       " '__dir__',\n",
       " '__doc__',\n",
       " '__eq__',\n",
       " '__format__',\n",
       " '__ge__',\n",
       " '__getattribute__',\n",
       " '__gt__',\n",
       " '__hash__',\n",
       " '__init__',\n",
       " '__init_subclass__',\n",
       " '__le__',\n",
       " '__lt__',\n",
       " '__module__',\n",
       " '__ne__',\n",
       " '__new__',\n",
       " '__reduce__',\n",
       " '__reduce_ex__',\n",
       " '__repr__',\n",
       " '__setattr__',\n",
       " '__sizeof__',\n",
       " '__str__',\n",
       " '__subclasshook__',\n",
       " '__weakref__',\n",
       " '_ctx',\n",
       " 'finalize',\n",
       " 'update',\n",
       " 'update_into']"
      ]
     },
     "execution_count": 373,
     "metadata": {},
     "output_type": "execute_result"
    }
   ],
   "source": [
    "dir(encryptor)"
   ]
  },
  {
   "cell_type": "code",
   "execution_count": 141,
   "metadata": {},
   "outputs": [],
   "source": [
    "with open('/home/sk/Downloads/yolov3.weights', 'rb') as f:\n",
    "    huge = f.read()"
   ]
  },
  {
   "cell_type": "code",
   "execution_count": 144,
   "metadata": {},
   "outputs": [
    {
     "name": "stdout",
     "output_type": "stream",
     "text": [
      "CPU times: user 13.1 s, sys: 708 ms, total: 13.8 s\n",
      "Wall time: 13.9 s\n"
     ]
    }
   ],
   "source": [
    "%%time\n",
    "aesfile = AESFile('huge.aes', 'wb', passphrase)\n",
    "for i in range(len(huge) // 512):\n",
    "    aesfile.write(huge[512*i:512*(i+1)])"
   ]
  },
  {
   "cell_type": "code",
   "execution_count": 170,
   "metadata": {},
   "outputs": [
    {
     "name": "stdout",
     "output_type": "stream",
     "text": [
      "CPU times: user 2.73 s, sys: 448 ms, total: 3.17 s\n",
      "Wall time: 3.17 s\n"
     ]
    }
   ],
   "source": [
    "%%time\n",
    "aesfile = AESFile2('huge.aes', 'wb', passphrase)\n",
    "for i in range(len(huge) // 512):\n",
    "    aesfile.write(huge[512*i:512*(i+1)])"
   ]
  },
  {
   "cell_type": "code",
   "execution_count": 145,
   "metadata": {},
   "outputs": [],
   "source": [
    "from Crypto.Cipher import AES"
   ]
  },
  {
   "cell_type": "code",
   "execution_count": 148,
   "metadata": {},
   "outputs": [],
   "source": [
    "cipher = AES.new(key, AES.MODE_CBC, IV=bytes(16))"
   ]
  },
  {
   "cell_type": "code",
   "execution_count": 149,
   "metadata": {},
   "outputs": [
    {
     "data": {
      "text/plain": [
       "<Crypto.Cipher.AES.AESCipher at 0x7fb6459b3a10>"
      ]
     },
     "execution_count": 149,
     "metadata": {},
     "output_type": "execute_result"
    }
   ],
   "source": [
    "cipher"
   ]
  },
  {
   "cell_type": "code",
   "execution_count": 151,
   "metadata": {},
   "outputs": [],
   "source": [
    "ct_bytes = cipher.encrypt(huge[:512])"
   ]
  },
  {
   "cell_type": "code",
   "execution_count": 152,
   "metadata": {},
   "outputs": [
    {
     "data": {
      "text/plain": [
       "b'\\x9c\\xcb\\x88/\\x94k\\xe9\\xcf\\x9b\\xe2e%\\xd6uU\\x18\\xde\\xbd\\x17\\xb2^(\\x9fO\\xf6\\x80WY\\xae\\xcdsw\\xb7\\xd1\\x0e\\x0c\\xfb\\x9cf\\x1eJ)\\x80\\xfe\\x80\\xd4\\x04\\xa0\"Lg\\x86\\xec\\xae\\xed\\xab \\xc8t\\xc8\\xb1\\xe1\\x8e7\\x89\\xbd\\xfa4\\x92\\x94*l\\xf64Z\\xc4\\xabt2\\xb6\\x89M\\xb3\\x94\\xae*_\\x8eF>\\xac0\\xcf\\xfe\\xf4w>\\xa0\\x0e\\x022\\x0b\\x8f\\xc5\\x9e\\xe8\\xe2\\xe2&\\x168\\x15\\rpCr\\xc2E1\\x1c\\xca\\x1c\\xcc\\x12F\\xc4\\xb5\\xcd\\xfe\"\\xed\\xef\\xb2\\xaeW\\x17\\xed\\x82\\x19\\x1f\\xd6D\\x196f\\x0e\\xc8\\xad\\x9d8\\xe6\\xb5]\\x8aK\\x0c\\xf9\\x9c\\xe7]\\xa8\\xbf\\xbe\\xf6\\xde\\xd3\\xeb\\x8bn\\t\\xdcl\\xe4\\xb7\\x85HZ\\x92N\\x9f\\xbd\\x17\\xfb\\xc2\\n\\xbe\\xdf\\xa3D\\x0b8>\\xd1\\xb3u\\xda\\xf4\\x8b\\xa3h\\x89\\xb5\\xa6=<\\x8a\\xd6\\xa9\\x11\\xca\\xa4\\x05\\xe6\\xae\\x05WMvjU.1A.\\xae|\\xb4j\\x8bV\\xc2\\x97\\x08?nH\\xca\\xa6w\\x9a\\x96Z\\xea\\xf3\\x1a%\\xf2\\xe6_\\xc6\\x0f\\xab\\xe2\\x92{\\xe1i\\xb1\\r#\\x98\\xec\\xbdm\\x07$\\x98r0\"\\x88\\xb3p\\x94\\x95\\xd0\\x81T5y\\xac\\xe2\\xdd\\xed\\xe4\\x01\\xb2\\xa0^%W\\x1e-$\\xf0\\xfd\\x89\\xbd+)\\xe7\\x14\\xdd\\xa6\\xbc\\xfd0\\xb3\\xf2A\\x84\\xd0AE\\xa5\\x08\\x1e\\x9d\\x120\\xf9\\x04\\xc14U\\xfe\\x1e\\xda\\xd5o\\xe5\\x12\\xd0\\xfc\\xf6\\x13\\xaf\\x82\\xef\\x89+\\x92\\x15\\xc9\\x14n\\x88\\xd7-\\xae\\xa9\\x0fG\\x84\\xa7:\"\\xc0j\\x03w\\xe3\\x1e\\x11L\"\\xb7\\x89u\\x93|\\xba^\\x8a\\xca\\xd8\\x01 \\xa2\\xfbo+\\xe8\\xc3\\x13\\x93\\'}\\x92\\x90\\xf0i\\x9e\\xdf\\xb4\\xacJ\\x93\\x90s\\xd4z\\xb6\\x93\\xde\\xa3\\x04\\x86\\x87\\xcdR\\x9a\\x85\\xa1\\xdb?n>N\\xdf\\xe1\\xc7\\x89\\xd6\\x1b\\xc9\\xcbK\\x93\\xde\\xa2\\xa4\\xc8B\\xc7\\x90>\\xed\\xd30\\xf5\\x0b\\xac\\x07\\xeb\\xf0$\\xe1@X\\x81\\xd7\\x8d\\xe4\"\\xd2\\xe5\\xdcZ8Y-t\\xa3\\xdf\\xd1\\xd4\\x8f\\t\"\\x8c\\x98\\x06c\\x10\\xde\\x89\\xeeNS\\xda[f\\xfa\\x97\\xdb\\xc7\\xbe\\xc8#I>6\\xb4\\x84\\xa7`\\x11\\x1e\\xd3\\xc8\\x15\\x11\\xfd\\x80\\xcb\\xf2;Dw(\\x93'"
      ]
     },
     "execution_count": 152,
     "metadata": {},
     "output_type": "execute_result"
    }
   ],
   "source": [
    "ct_bytes"
   ]
  },
  {
   "cell_type": "code",
   "execution_count": 154,
   "metadata": {},
   "outputs": [],
   "source": [
    "cipher.IV = bytes(16)"
   ]
  },
  {
   "cell_type": "code",
   "execution_count": 156,
   "metadata": {},
   "outputs": [
    {
     "data": {
      "text/plain": [
       "['IV',\n",
       " '__class__',\n",
       " '__delattr__',\n",
       " '__dict__',\n",
       " '__dir__',\n",
       " '__doc__',\n",
       " '__eq__',\n",
       " '__format__',\n",
       " '__ge__',\n",
       " '__getattribute__',\n",
       " '__gt__',\n",
       " '__hash__',\n",
       " '__init__',\n",
       " '__init_subclass__',\n",
       " '__le__',\n",
       " '__lt__',\n",
       " '__module__',\n",
       " '__ne__',\n",
       " '__new__',\n",
       " '__reduce__',\n",
       " '__reduce_ex__',\n",
       " '__repr__',\n",
       " '__setattr__',\n",
       " '__sizeof__',\n",
       " '__str__',\n",
       " '__subclasshook__',\n",
       " '__weakref__',\n",
       " '_cipher',\n",
       " 'block_size',\n",
       " 'decrypt',\n",
       " 'encrypt',\n",
       " 'mode']"
      ]
     },
     "execution_count": 156,
     "metadata": {},
     "output_type": "execute_result"
    }
   ],
   "source": [
    "dir(cipher)"
   ]
  },
  {
   "cell_type": "code",
   "execution_count": null,
   "metadata": {},
   "outputs": [],
   "source": []
  }
 ],
 "metadata": {
  "kernelspec": {
   "display_name": "Python 3",
   "language": "python",
   "name": "python3"
  },
  "language_info": {
   "codemirror_mode": {
    "name": "ipython",
    "version": 3
   },
   "file_extension": ".py",
   "mimetype": "text/x-python",
   "name": "python",
   "nbconvert_exporter": "python",
   "pygments_lexer": "ipython3",
   "version": "3.7.6"
  }
 },
 "nbformat": 4,
 "nbformat_minor": 4
}
